{
 "cells": [
  {
   "cell_type": "code",
   "execution_count": 24,
   "metadata": {},
   "outputs": [],
   "source": [
    "library(readxl)\n"
   ]
  },
  {
   "cell_type": "code",
   "execution_count": null,
   "metadata": {},
   "outputs": [],
   "source": [
    "datos <- read_excel(\"D:/r/Clase2/datos_DE_repaso.xlsx\")\n",
    "#View(datos)"
   ]
  },
  {
   "cell_type": "code",
   "execution_count": 3,
   "metadata": {},
   "outputs": [],
   "source": [
    "datos<-read.delim('clipboard') # obtiene los datos copiados del excel"
   ]
  },
  {
   "cell_type": "code",
   "execution_count": 5,
   "metadata": {},
   "outputs": [
    {
     "name": "stderr",
     "output_type": "stream",
     "text": [
      "The following objects are masked from datos (pos = 3):\n",
      "\n",
      "    programa, tiempo\n",
      "\n",
      "The following objects are masked from datos (pos = 4):\n",
      "\n",
      "    programa, tiempo\n",
      "\n",
      "The following objects are masked from datos (pos = 5):\n",
      "\n",
      "    programa, tiempo\n",
      "\n"
     ]
    }
   ],
   "source": [
    "attach(datos) # sirve para descomponer los datos en columnas"
   ]
  },
  {
   "cell_type": "code",
   "execution_count": 6,
   "metadata": {},
   "outputs": [
    {
     "data": {
      "text/html": [
       "<table>\n",
       "<thead><tr><th scope=col>tiempo</th><th scope=col>programa</th></tr></thead>\n",
       "<tbody>\n",
       "\t<tr><td>64   </td><td>alfa </td></tr>\n",
       "\t<tr><td>67   </td><td>alfa </td></tr>\n",
       "\t<tr><td>62   </td><td>alfa </td></tr>\n",
       "\t<tr><td>64   </td><td>alfa </td></tr>\n",
       "\t<tr><td>66   </td><td>alfa </td></tr>\n",
       "\t<tr><td>59   </td><td>beta </td></tr>\n",
       "\t<tr><td>58   </td><td>beta </td></tr>\n",
       "\t<tr><td>61   </td><td>beta </td></tr>\n",
       "\t<tr><td>59   </td><td>beta </td></tr>\n",
       "\t<tr><td>58   </td><td>beta </td></tr>\n",
       "\t<tr><td>65   </td><td>gamma</td></tr>\n",
       "\t<tr><td>68   </td><td>gamma</td></tr>\n",
       "\t<tr><td>63   </td><td>gamma</td></tr>\n",
       "\t<tr><td>64   </td><td>gamma</td></tr>\n",
       "\t<tr><td>65   </td><td>gamma</td></tr>\n",
       "\t<tr><td>58   </td><td>sigma</td></tr>\n",
       "\t<tr><td>60   </td><td>sigma</td></tr>\n",
       "\t<tr><td>59   </td><td>sigma</td></tr>\n",
       "\t<tr><td>62   </td><td>sigma</td></tr>\n",
       "\t<tr><td>60   </td><td>sigma</td></tr>\n",
       "</tbody>\n",
       "</table>\n"
      ],
      "text/latex": [
       "\\begin{tabular}{r|ll}\n",
       " tiempo & programa\\\\\n",
       "\\hline\n",
       "\t 64    & alfa \\\\\n",
       "\t 67    & alfa \\\\\n",
       "\t 62    & alfa \\\\\n",
       "\t 64    & alfa \\\\\n",
       "\t 66    & alfa \\\\\n",
       "\t 59    & beta \\\\\n",
       "\t 58    & beta \\\\\n",
       "\t 61    & beta \\\\\n",
       "\t 59    & beta \\\\\n",
       "\t 58    & beta \\\\\n",
       "\t 65    & gamma\\\\\n",
       "\t 68    & gamma\\\\\n",
       "\t 63    & gamma\\\\\n",
       "\t 64    & gamma\\\\\n",
       "\t 65    & gamma\\\\\n",
       "\t 58    & sigma\\\\\n",
       "\t 60    & sigma\\\\\n",
       "\t 59    & sigma\\\\\n",
       "\t 62    & sigma\\\\\n",
       "\t 60    & sigma\\\\\n",
       "\\end{tabular}\n"
      ],
      "text/markdown": [
       "\n",
       "| tiempo | programa |\n",
       "|---|---|\n",
       "| 64    | alfa  |\n",
       "| 67    | alfa  |\n",
       "| 62    | alfa  |\n",
       "| 64    | alfa  |\n",
       "| 66    | alfa  |\n",
       "| 59    | beta  |\n",
       "| 58    | beta  |\n",
       "| 61    | beta  |\n",
       "| 59    | beta  |\n",
       "| 58    | beta  |\n",
       "| 65    | gamma |\n",
       "| 68    | gamma |\n",
       "| 63    | gamma |\n",
       "| 64    | gamma |\n",
       "| 65    | gamma |\n",
       "| 58    | sigma |\n",
       "| 60    | sigma |\n",
       "| 59    | sigma |\n",
       "| 62    | sigma |\n",
       "| 60    | sigma |\n",
       "\n"
      ],
      "text/plain": [
       "   tiempo programa\n",
       "1  64     alfa    \n",
       "2  67     alfa    \n",
       "3  62     alfa    \n",
       "4  64     alfa    \n",
       "5  66     alfa    \n",
       "6  59     beta    \n",
       "7  58     beta    \n",
       "8  61     beta    \n",
       "9  59     beta    \n",
       "10 58     beta    \n",
       "11 65     gamma   \n",
       "12 68     gamma   \n",
       "13 63     gamma   \n",
       "14 64     gamma   \n",
       "15 65     gamma   \n",
       "16 58     sigma   \n",
       "17 60     sigma   \n",
       "18 59     sigma   \n",
       "19 62     sigma   \n",
       "20 60     sigma   "
      ]
     },
     "metadata": {},
     "output_type": "display_data"
    }
   ],
   "source": [
    "datos"
   ]
  },
  {
   "cell_type": "code",
   "execution_count": 14,
   "metadata": {},
   "outputs": [
    {
     "name": "stderr",
     "output_type": "stream",
     "text": [
      "Warning message:\n",
      "\"dependencies 'mnormt', 'graph', 'Rgraphviz' are not available\"also installing the dependencies 'abind', 'coda', 'arm', 'pbivnorm', 'matrixcalc', 'mi', 'minqa', 'nloptr', 'statmod', 'RcppEigen', 'psychTools', 'GPArotation', 'lavaan', 'sem', 'lme4', 'Rcsdp'\n",
      "\n"
     ]
    },
    {
     "name": "stdout",
     "output_type": "stream",
     "text": [
      "package 'abind' successfully unpacked and MD5 sums checked\n",
      "package 'coda' successfully unpacked and MD5 sums checked\n",
      "package 'arm' successfully unpacked and MD5 sums checked\n",
      "package 'pbivnorm' successfully unpacked and MD5 sums checked\n",
      "package 'matrixcalc' successfully unpacked and MD5 sums checked\n",
      "package 'mi' successfully unpacked and MD5 sums checked\n",
      "package 'minqa' successfully unpacked and MD5 sums checked\n",
      "package 'nloptr' successfully unpacked and MD5 sums checked\n",
      "package 'statmod' successfully unpacked and MD5 sums checked\n",
      "package 'RcppEigen' successfully unpacked and MD5 sums checked\n",
      "package 'psychTools' successfully unpacked and MD5 sums checked\n",
      "package 'GPArotation' successfully unpacked and MD5 sums checked\n",
      "package 'lavaan' successfully unpacked and MD5 sums checked\n",
      "package 'sem' successfully unpacked and MD5 sums checked\n",
      "package 'lme4' successfully unpacked and MD5 sums checked\n",
      "package 'Rcsdp' successfully unpacked and MD5 sums checked\n",
      "package 'psych' successfully unpacked and MD5 sums checked\n",
      "\n",
      "The downloaded binary packages are in\n",
      "\tC:\\Users\\Asullom\\AppData\\Local\\Temp\\RtmpgBpdcD\\downloaded_packages\n"
     ]
    }
   ],
   "source": [
    "install.packages(\"psych\",dependencies=TRUE)\n"
   ]
  },
  {
   "cell_type": "code",
   "execution_count": 27,
   "metadata": {},
   "outputs": [
    {
     "name": "stderr",
     "output_type": "stream",
     "text": [
      "Warning message:\n",
      "\"package 'mnormt' is not available (for R version 3.6.1)\""
     ]
    }
   ],
   "source": [
    "install.packages(\"mnormt\",dependencies=TRUE)\n"
   ]
  },
  {
   "cell_type": "code",
   "execution_count": 25,
   "metadata": {},
   "outputs": [
    {
     "name": "stderr",
     "output_type": "stream",
     "text": [
      "Warning message:\n",
      "\"package 'psych' was built under R version 3.6.3\""
     ]
    },
    {
     "ename": "ERROR",
     "evalue": "Error: package or namespace load failed for 'psych' in loadNamespace(j <- i[[1L]], c(lib.loc, .libPaths()), versionCheck = vI[[j]]):\n there is no package called 'mnormt'\n",
     "output_type": "error",
     "traceback": [
      "Error: package or namespace load failed for 'psych' in loadNamespace(j <- i[[1L]], c(lib.loc, .libPaths()), versionCheck = vI[[j]]):\n there is no package called 'mnormt'\nTraceback:\n",
      "1. library(psych)",
      "2. tryCatch({\n .     attr(package, \"LibPath\") <- which.lib.loc\n .     ns <- loadNamespace(package, lib.loc)\n .     env <- attachNamespace(ns, pos = pos, deps, exclude, include.only)\n . }, error = function(e) {\n .     P <- if (!is.null(cc <- conditionCall(e))) \n .         paste(\" in\", deparse(cc)[1L])\n .     else \"\"\n .     msg <- gettextf(\"package or namespace load failed for %s%s:\\n %s\", \n .         sQuote(package), P, conditionMessage(e))\n .     if (logical.return) \n .         message(paste(\"Error:\", msg), domain = NA)\n .     else stop(msg, call. = FALSE, domain = NA)\n . })",
      "3. tryCatchList(expr, classes, parentenv, handlers)",
      "4. tryCatchOne(expr, names, parentenv, handlers[[1L]])",
      "5. value[[3L]](cond)",
      "6. stop(msg, call. = FALSE, domain = NA)"
     ]
    }
   ],
   "source": [
    "library(psych)"
   ]
  },
  {
   "cell_type": "code",
   "execution_count": 26,
   "metadata": {},
   "outputs": [
    {
     "ename": "ERROR",
     "evalue": "Error in describeBy(tiempo, programa): could not find function \"describeBy\"\n",
     "output_type": "error",
     "traceback": [
      "Error in describeBy(tiempo, programa): could not find function \"describeBy\"\nTraceback:\n"
     ]
    }
   ],
   "source": [
    "\n",
    "describeBy(tiempo,programa)"
   ]
  },
  {
   "cell_type": "code",
   "execution_count": null,
   "metadata": {},
   "outputs": [],
   "source": []
  }
 ],
 "metadata": {
  "kernelspec": {
   "display_name": "R",
   "language": "R",
   "name": "ir"
  },
  "language_info": {
   "codemirror_mode": "r",
   "file_extension": ".r",
   "mimetype": "text/x-r-source",
   "name": "R",
   "pygments_lexer": "r",
   "version": "3.6.1"
  }
 },
 "nbformat": 4,
 "nbformat_minor": 4
}
