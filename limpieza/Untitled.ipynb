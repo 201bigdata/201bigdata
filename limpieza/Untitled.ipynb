{
 "cells": [
  {
   "cell_type": "code",
   "execution_count": 1,
   "metadata": {},
   "outputs": [
    {
     "data": {
      "text/plain": [
       "'2.4.5'"
      ]
     },
     "execution_count": 1,
     "metadata": {},
     "output_type": "execute_result"
    }
   ],
   "source": [
    "sc.version"
   ]
  },
  {
   "cell_type": "code",
   "execution_count": 11,
   "metadata": {},
   "outputs": [
    {
     "name": "stdout",
     "output_type": "stream",
     "text": [
      "root\n",
      " |-- HHID: string (nullable = true)\n",
      " |-- CASEID: string (nullable = true)\n",
      " |-- V013: double (nullable = true)\n",
      " |-- V015: double (nullable = true)\n",
      " |-- V020: double (nullable = true)\n",
      " |-- V101: double (nullable = true)\n",
      " |-- V102: double (nullable = true)\n",
      " |-- V103: double (nullable = true)\n",
      " |-- V131: double (nullable = true)\n",
      " |-- V136: double (nullable = true)\n",
      " |-- V149: double (nullable = true)\n",
      " |-- V155: double (nullable = true)\n",
      " |-- V022: double (nullable = true)\n",
      " |-- V005: double (nullable = true)\n",
      " |-- V190: double (nullable = true)\n",
      "\n"
     ]
    }
   ],
   "source": [
    "df = sqlContext.read.format('com.crealytics.spark.excel')\\\n",
    ".options(header='true', inferschema='true')\\\n",
    ".option(\"sheetName\", \"MOD66_2018\")\\\n",
    ".option(\"location\", '../MOD66_2018.xls')\\\n",
    ".option(\"useHeader\", \"true\")\\\n",
    ".option(\"treatEmptyValuesAsNulls\", \"true\")\\\n",
    ".option(\"inferSchema\", \"true\")\\\n",
    ".option(\"addColorColumns\", \"False\")\\\n",
    ".load()\n",
    "df.printSchema()"
   ]
  },
  {
   "cell_type": "code",
   "execution_count": 12,
   "metadata": {},
   "outputs": [],
   "source": [
    "#df.toPandas()"
   ]
  },
  {
   "cell_type": "code",
   "execution_count": 13,
   "metadata": {},
   "outputs": [
    {
     "name": "stdout",
     "output_type": "stream",
     "text": [
      "+---------+------------+----+\n",
      "|     HHID|      CASEID|V013|\n",
      "+---------+------------+----+\n",
      "|000100701|000100701  2| 6.0|\n",
      "|000100701|000100701  3| 1.0|\n",
      "|000101401|000101401  2| 2.0|\n",
      "|000103501|000103501  4| 1.0|\n",
      "|000103501|000103501  5| 0.0|\n",
      "|000105301|000105301  2| 3.0|\n",
      "|000107101|000107101  2| 5.0|\n",
      "|000111301|000111301  1| 4.0|\n",
      "|000112901|000112901  3| 3.0|\n",
      "|000112901|000112901  4| 1.0|\n",
      "|000112901|000112901  5| 4.0|\n",
      "|000117801|000117801  2| 6.0|\n",
      "|000117801|000117801  3| 0.0|\n",
      "|000201101|000201101  2| 2.0|\n",
      "|000205001|000205001  2| 7.0|\n",
      "|000205001|000205001  3| 3.0|\n",
      "|000205501|000205501  1| 2.0|\n",
      "|000205501|000205501  2| 1.0|\n",
      "|000206501|000206501  2| 3.0|\n",
      "|000206701|000206701  3|null|\n",
      "+---------+------------+----+\n",
      "only showing top 20 rows\n",
      "\n"
     ]
    }
   ],
   "source": [
    "df.createOrReplaceTempView(\"MOD66_2018\")\n",
    "df2 = spark.sql(\"SELECT HHID, CASEID, V013 from MOD66_2018 \") \n",
    "df2.show()"
   ]
  },
  {
   "cell_type": "code",
   "execution_count": 14,
   "metadata": {},
   "outputs": [
    {
     "name": "stdout",
     "output_type": "stream",
     "text": [
      "root\n",
      " |-- CASEID: string (nullable = true)\n",
      " |-- D104: double (nullable = true)\n",
      " |-- D105A: double (nullable = true)\n",
      " |-- D105B: double (nullable = true)\n",
      " |-- D105C: double (nullable = true)\n",
      " |-- D105D: double (nullable = true)\n",
      " |-- D105E: double (nullable = true)\n",
      " |-- D105F: double (nullable = true)\n",
      " |-- D105G: double (nullable = true)\n",
      " |-- D105H: double (nullable = true)\n",
      " |-- D105I: double (nullable = true)\n",
      " |-- D108: double (nullable = true)\n",
      " |-- D115B: double (nullable = true)\n",
      " |-- D115C: double (nullable = true)\n",
      " |-- D115F: double (nullable = true)\n",
      " |-- D115G: double (nullable = true)\n",
      " |-- D115H: double (nullable = true)\n",
      " |-- D115I: double (nullable = true)\n",
      " |-- D115M: double (nullable = true)\n",
      " |-- D115N: double (nullable = true)\n",
      " |-- D115S: double (nullable = true)\n",
      " |-- D115T: double (nullable = true)\n",
      " |-- D115V: double (nullable = true)\n",
      " |-- D115W: double (nullable = true)\n",
      " |-- D115XA: double (nullable = true)\n",
      " |-- D116: double (nullable = true)\n",
      " |-- D121: double (nullable = true)\n",
      "\n"
     ]
    }
   ],
   "source": [
    "df73 = sqlContext.read.format('com.crealytics.spark.excel')\\\n",
    ".options(header='true', inferschema='true')\\\n",
    ".option(\"sheetName\", \"MOD73_2018\")\\\n",
    ".option(\"location\", '../MOD73_2018.xls')\\\n",
    ".option(\"useHeader\", \"true\")\\\n",
    ".option(\"treatEmptyValuesAsNulls\", \"true\")\\\n",
    ".option(\"inferSchema\", \"true\")\\\n",
    ".option(\"addColorColumns\", \"False\")\\\n",
    ".load()\n",
    "df73.printSchema()"
   ]
  },
  {
   "cell_type": "code",
   "execution_count": null,
   "metadata": {},
   "outputs": [],
   "source": [
    "df73.createOrReplaceTempView(\"MOD73_2018\")\n",
    "df73b = spark.sql(\"SELECT CASEID, D104, D105A from MOD73_2018 \") \n",
    "df73b.show()"
   ]
  }
 ],
 "metadata": {
  "kernelspec": {
   "display_name": "Python 3",
   "language": "python",
   "name": "python3"
  },
  "language_info": {
   "codemirror_mode": {
    "name": "ipython",
    "version": 3
   },
   "file_extension": ".py",
   "mimetype": "text/x-python",
   "name": "python",
   "nbconvert_exporter": "python",
   "pygments_lexer": "ipython3",
   "version": "3.7.6"
  }
 },
 "nbformat": 4,
 "nbformat_minor": 4
}
