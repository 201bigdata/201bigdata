{
 "cells": [
  {
   "cell_type": "markdown",
   "metadata": {},
   "source": [
    "#Ejemplo de procesamiento de lenguaje natural"
   ]
  },
  {
   "cell_type": "code",
   "execution_count": 3,
   "metadata": {},
   "outputs": [
    {
     "data": {
      "text/plain": [
       "'2.4.5'"
      ]
     },
     "execution_count": 3,
     "metadata": {},
     "output_type": "execute_result"
    }
   ],
   "source": [
    "sc.version"
   ]
  },
  {
   "cell_type": "code",
   "execution_count": 49,
   "metadata": {},
   "outputs": [
    {
     "name": "stdout",
     "output_type": "stream",
     "text": [
      "<class 'pyspark.rdd.RDD'>\n"
     ]
    }
   ],
   "source": [
    "#xx= sc.textFile(\"https://raw.githubusercontent.com/mxw/grmr/master/src/finaltests/bible.txt\")\n",
    "#print( type(xx) )"
   ]
  },
  {
   "cell_type": "code",
   "execution_count": 51,
   "metadata": {},
   "outputs": [],
   "source": [
    "#xx.collect()"
   ]
  },
  {
   "cell_type": "code",
   "execution_count": 17,
   "metadata": {},
   "outputs": [],
   "source": [
    "#linesRDD= sc.textFile(\"../BIBLIACOMPLETAno.txt\")\n",
    "#print( type(linesRDD) )"
   ]
  },
  {
   "cell_type": "code",
   "execution_count": 18,
   "metadata": {},
   "outputs": [],
   "source": [
    "#linesRDD.collect()"
   ]
  },
  {
   "cell_type": "code",
   "execution_count": 21,
   "metadata": {
    "scrolled": true
   },
   "outputs": [
    {
     "data": {
      "text/plain": [
       "['LIBRO PRIMERO DE MOISÉS', '', 'GÉNESIS', '', 'La creación']"
      ]
     },
     "execution_count": 21,
     "metadata": {},
     "output_type": "execute_result"
    }
   ],
   "source": [
    "linesRDD= sc.binaryFiles(\"../BIBLIACOMPLETAno.txt\").values().flatMap(lambda x: x.decode(\"iso-8859-1\").splitlines())\n",
    "linesRDD.take(5)"
   ]
  },
  {
   "cell_type": "code",
   "execution_count": 28,
   "metadata": {},
   "outputs": [
    {
     "data": {
      "text/plain": [
       "['LIBRO PRIMERO DE MOISÉS',\n",
       " '',\n",
       " 'GÉNESIS',\n",
       " '',\n",
       " 'La creación',\n",
       " '',\n",
       " 'Génesis 1',\n",
       " '',\n",
       " 'Génesis 1:1',\n",
       " '          En el principio creó Dios los cielos y la tierra.',\n",
       " '',\n",
       " ' Génesis 1:2',\n",
       " '          Y la tierra estaba desordenada y vacía, y las tinieblas',\n",
       " '          estaban sobre la faz del abismo, y el Espíritu de Dios se',\n",
       " '          movía sobre la faz de las aguas.',\n",
       " '',\n",
       " ' Génesis 1:3',\n",
       " '          Y dijo Dios: Sea la luz; y fue la luz.',\n",
       " '',\n",
       " ' Génesis 1:4',\n",
       " '          Y vio Dios que la luz era buena; y separó Dios la luz de',\n",
       " '          las tinieblas.',\n",
       " '',\n",
       " ' Génesis 1:5',\n",
       " '          Y llamó Dios a la luz Día, y a las tinieblas llamó Noche.',\n",
       " '          Y fue la tarde y la mañana un día.',\n",
       " '',\n",
       " ' Génesis 1:6',\n",
       " '          Luego dijo Dios: Haya expansión en medio de las aguas, y',\n",
       " '          separe las aguas de las aguas.',\n",
       " '',\n",
       " ' Génesis 1:7',\n",
       " '          E hizo Dios la expansión, y separó las aguas que estaban',\n",
       " '          debajo de la expansión, de las aguas que estaban sobre la',\n",
       " '          expansión. Y fue así.',\n",
       " '',\n",
       " '',\n",
       " 'ÉXODO 3',\n",
       " '-----------------------------------------------------------',\n",
       " '']"
      ]
     },
     "execution_count": 28,
     "metadata": {},
     "output_type": "execute_result"
    }
   ],
   "source": [
    "linesRDD.collect()"
   ]
  },
  {
   "cell_type": "code",
   "execution_count": 29,
   "metadata": {},
   "outputs": [
    {
     "data": {
      "text/plain": [
       "40"
      ]
     },
     "execution_count": 29,
     "metadata": {},
     "output_type": "execute_result"
    }
   ],
   "source": [
    "linesRDD.count()"
   ]
  },
  {
   "cell_type": "code",
   "execution_count": 23,
   "metadata": {},
   "outputs": [
    {
     "data": {
      "text/plain": [
       "1"
      ]
     },
     "execution_count": 23,
     "metadata": {},
     "output_type": "execute_result"
    }
   ],
   "source": [
    "linesRDD.getNumPartitions()"
   ]
  },
  {
   "cell_type": "code",
   "execution_count": 25,
   "metadata": {},
   "outputs": [
    {
     "data": {
      "text/plain": [
       "['          Y dijo Dios: Sea la luz; y fue la luz.',\n",
       " '          Y vio Dios que la luz era buena; y separó Dios la luz de',\n",
       " '          Y llamó Dios a la luz Día, y a las tinieblas llamó Noche.']"
      ]
     },
     "execution_count": 25,
     "metadata": {},
     "output_type": "execute_result"
    }
   ],
   "source": [
    "mifilter = linesRDD.filter(lambda line: \"luz\" in line)\n",
    "mifilter.collect()"
   ]
  },
  {
   "cell_type": "code",
   "execution_count": 26,
   "metadata": {},
   "outputs": [],
   "source": [
    "# conta las palabras más frecuentes de la biblia\n",
    "#function tokenin:\n",
    "#    ..."
   ]
  },
  {
   "cell_type": "code",
   "execution_count": 33,
   "metadata": {
    "scrolled": false
   },
   "outputs": [],
   "source": [
    "#words= linesRDD.flatMap(lambda x: x.split(\" \")) #Tokenización\n",
    "#words.collect()"
   ]
  },
  {
   "cell_type": "code",
   "execution_count": 40,
   "metadata": {},
   "outputs": [
    {
     "data": {
      "text/plain": [
       "['libro',\n",
       " 'primero',\n",
       " 'de',\n",
       " 'moisés',\n",
       " '',\n",
       " 'génesis',\n",
       " '',\n",
       " 'la',\n",
       " 'creación',\n",
       " '',\n",
       " 'génesis',\n",
       " '1',\n",
       " '',\n",
       " 'génesis',\n",
       " '1',\n",
       " '1',\n",
       " 'en',\n",
       " 'el',\n",
       " 'principio',\n",
       " 'creó',\n",
       " 'dios',\n",
       " 'los',\n",
       " 'cielos',\n",
       " 'y',\n",
       " 'la',\n",
       " 'tierra',\n",
       " '',\n",
       " 'génesis',\n",
       " '1',\n",
       " '2',\n",
       " 'y',\n",
       " 'la',\n",
       " 'tierra',\n",
       " 'estaba',\n",
       " 'desordenada',\n",
       " 'y',\n",
       " 'vacía',\n",
       " 'y',\n",
       " 'las',\n",
       " 'tinieblas',\n",
       " 'estaban',\n",
       " 'sobre',\n",
       " 'la',\n",
       " 'faz',\n",
       " 'del',\n",
       " 'abismo',\n",
       " 'y',\n",
       " 'el',\n",
       " 'espíritu',\n",
       " 'de',\n",
       " 'dios',\n",
       " 'se',\n",
       " 'movía',\n",
       " 'sobre',\n",
       " 'la',\n",
       " 'faz',\n",
       " 'de',\n",
       " 'las',\n",
       " 'aguas',\n",
       " '',\n",
       " 'génesis',\n",
       " '1',\n",
       " '3',\n",
       " 'y',\n",
       " 'dijo',\n",
       " 'dios',\n",
       " 'sea',\n",
       " 'la',\n",
       " 'luz',\n",
       " 'y',\n",
       " 'fue',\n",
       " 'la',\n",
       " 'luz',\n",
       " '',\n",
       " 'génesis',\n",
       " '1',\n",
       " '4',\n",
       " 'y',\n",
       " 'vio',\n",
       " 'dios',\n",
       " 'que',\n",
       " 'la',\n",
       " 'luz',\n",
       " 'era',\n",
       " 'buena',\n",
       " 'y',\n",
       " 'separó',\n",
       " 'dios',\n",
       " 'la',\n",
       " 'luz',\n",
       " 'de',\n",
       " 'las',\n",
       " 'tinieblas',\n",
       " '',\n",
       " 'génesis',\n",
       " '1',\n",
       " '5',\n",
       " 'y',\n",
       " 'llamó',\n",
       " 'dios',\n",
       " 'a',\n",
       " 'la',\n",
       " 'luz',\n",
       " 'día',\n",
       " 'y',\n",
       " 'a',\n",
       " 'las',\n",
       " 'tinieblas',\n",
       " 'llamó',\n",
       " 'noche',\n",
       " 'y',\n",
       " 'fue',\n",
       " 'la',\n",
       " 'tarde',\n",
       " 'y',\n",
       " 'la',\n",
       " 'mañana',\n",
       " 'un',\n",
       " 'día',\n",
       " '',\n",
       " 'génesis',\n",
       " '1',\n",
       " '6',\n",
       " 'luego',\n",
       " 'dijo',\n",
       " 'dios',\n",
       " 'haya',\n",
       " 'expansión',\n",
       " 'en',\n",
       " 'medio',\n",
       " 'de',\n",
       " 'las',\n",
       " 'aguas',\n",
       " 'y',\n",
       " 'separe',\n",
       " 'las',\n",
       " 'aguas',\n",
       " 'de',\n",
       " 'las',\n",
       " 'aguas',\n",
       " '',\n",
       " 'génesis',\n",
       " '1',\n",
       " '7',\n",
       " 'e',\n",
       " 'hizo',\n",
       " 'dios',\n",
       " 'la',\n",
       " 'expansión',\n",
       " 'y',\n",
       " 'separó',\n",
       " 'las',\n",
       " 'aguas',\n",
       " 'que',\n",
       " 'estaban',\n",
       " 'debajo',\n",
       " 'de',\n",
       " 'la',\n",
       " 'expansión',\n",
       " 'de',\n",
       " 'las',\n",
       " 'aguas',\n",
       " 'que',\n",
       " 'estaban',\n",
       " 'sobre',\n",
       " 'la',\n",
       " 'expansión',\n",
       " 'y',\n",
       " 'fue',\n",
       " 'así',\n",
       " '',\n",
       " '',\n",
       " 'éxodo',\n",
       " '3',\n",
       " '',\n",
       " '']"
      ]
     },
     "execution_count": 40,
     "metadata": {},
     "output_type": "execute_result"
    }
   ],
   "source": [
    "#1. Tokenización\n",
    "import re\n",
    "# remove any non-words and split lines into separate words\n",
    "# finally, convert all words to lowercase\n",
    "def splitter(line):\n",
    "    line = re.sub(r'^\\W+|\\W+$', '', line)\n",
    "    return map(str.lower, re.split(r'\\W+', line))\n",
    "\n",
    "words= linesRDD.flatMap(splitter)\n",
    "words.collect()"
   ]
  },
  {
   "cell_type": "code",
   "execution_count": 41,
   "metadata": {},
   "outputs": [
    {
     "data": {
      "text/plain": [
       "176"
      ]
     },
     "execution_count": 41,
     "metadata": {},
     "output_type": "execute_result"
    }
   ],
   "source": [
    "words.count()"
   ]
  },
  {
   "cell_type": "code",
   "execution_count": 45,
   "metadata": {},
   "outputs": [
    {
     "name": "stdout",
     "output_type": "stream",
     "text": [
      "86\n"
     ]
    },
    {
     "data": {
      "text/plain": [
       "['libro',\n",
       " 'primero',\n",
       " 'moisés',\n",
       " 'creación',\n",
       " 'en',\n",
       " 'el',\n",
       " 'principio',\n",
       " 'creó',\n",
       " 'dios',\n",
       " 'cielos',\n",
       " 'tierra',\n",
       " 'tierra',\n",
       " 'estaba',\n",
       " 'desordenada',\n",
       " 'vacía',\n",
       " 'tinieblas',\n",
       " 'estaban',\n",
       " 'sobre',\n",
       " 'faz',\n",
       " 'del',\n",
       " 'abismo',\n",
       " 'el',\n",
       " 'espíritu',\n",
       " 'dios',\n",
       " 'se',\n",
       " 'movía',\n",
       " 'sobre',\n",
       " 'faz',\n",
       " 'aguas',\n",
       " 'dijo',\n",
       " 'dios',\n",
       " 'sea',\n",
       " 'luz',\n",
       " 'fue',\n",
       " 'luz',\n",
       " 'vio',\n",
       " 'dios',\n",
       " 'que',\n",
       " 'luz',\n",
       " 'era',\n",
       " 'buena',\n",
       " 'separó',\n",
       " 'dios',\n",
       " 'luz',\n",
       " 'tinieblas',\n",
       " 'llamó',\n",
       " 'dios',\n",
       " 'luz',\n",
       " 'día',\n",
       " 'tinieblas',\n",
       " 'llamó',\n",
       " 'noche',\n",
       " 'fue',\n",
       " 'tarde',\n",
       " 'mañana',\n",
       " 'un',\n",
       " 'día',\n",
       " 'luego',\n",
       " 'dijo',\n",
       " 'dios',\n",
       " 'haya',\n",
       " 'expansión',\n",
       " 'en',\n",
       " 'medio',\n",
       " 'aguas',\n",
       " 'separe',\n",
       " 'aguas',\n",
       " 'aguas',\n",
       " 'e',\n",
       " 'hizo',\n",
       " 'dios',\n",
       " 'expansión',\n",
       " 'separó',\n",
       " 'aguas',\n",
       " 'que',\n",
       " 'estaban',\n",
       " 'debajo',\n",
       " 'expansión',\n",
       " 'aguas',\n",
       " 'que',\n",
       " 'estaban',\n",
       " 'sobre',\n",
       " 'expansión',\n",
       " 'fue',\n",
       " 'así',\n",
       " 'éxodo']"
      ]
     },
     "execution_count": 45,
     "metadata": {},
     "output_type": "execute_result"
    }
   ],
   "source": [
    "#2.a Removing Stop words.  w not in stop_words and not w[0].isdigit()\n",
    "stop_words={'a','su','al','la','las','de','los','es','para','porque','y','génesis'}\n",
    "stopW = words.filter(lambda w : w not in stop_words and not w.isdigit() and len(w) != 0)\n",
    "print(stopW.count())\n",
    "stopW.collect()"
   ]
  },
  {
   "cell_type": "code",
   "execution_count": 47,
   "metadata": {},
   "outputs": [
    {
     "data": {
      "text/plain": [
       "'!\"#$%&\\'()*+,-./:;<=>?@[\\\\]^_`{|}~'"
      ]
     },
     "execution_count": 47,
     "metadata": {},
     "output_type": "execute_result"
    }
   ],
   "source": [
    "#2.b Removing punctuations.\n",
    "import string\n",
    "list_punct=list(string.punctuation)\n",
    "string.punctuation"
   ]
  },
  {
   "cell_type": "code",
   "execution_count": 48,
   "metadata": {},
   "outputs": [
    {
     "name": "stdout",
     "output_type": "stream",
     "text": [
      "86\n"
     ]
    }
   ],
   "source": [
    "filtered_data = stopW.filter(lambda punct : punct not in list_punct)\n",
    "print(filtered_data.count())\n",
    "#filtered_data.collect()"
   ]
  },
  {
   "cell_type": "code",
   "execution_count": 61,
   "metadata": {},
   "outputs": [
    {
     "name": "stdout",
     "output_type": "stream",
     "text": [
      "86\n"
     ]
    },
    {
     "data": {
      "text/plain": [
       "[('libro', 1),\n",
       " ('primero', 1),\n",
       " ('moisés', 1),\n",
       " ('creación', 1),\n",
       " ('en', 1),\n",
       " ('el', 1),\n",
       " ('principio', 1),\n",
       " ('creó', 1),\n",
       " ('dios', 1),\n",
       " ('cielos', 1),\n",
       " ('tierra', 1),\n",
       " ('tierra', 1),\n",
       " ('estaba', 1),\n",
       " ('desordenada', 1),\n",
       " ('vacía', 1),\n",
       " ('tinieblas', 1),\n",
       " ('estaban', 1),\n",
       " ('sobre', 1),\n",
       " ('faz', 1),\n",
       " ('del', 1),\n",
       " ('abismo', 1),\n",
       " ('el', 1),\n",
       " ('espíritu', 1),\n",
       " ('dios', 1),\n",
       " ('se', 1),\n",
       " ('movía', 1),\n",
       " ('sobre', 1),\n",
       " ('faz', 1),\n",
       " ('aguas', 1),\n",
       " ('dijo', 1),\n",
       " ('dios', 1),\n",
       " ('sea', 1),\n",
       " ('luz', 1),\n",
       " ('fue', 1),\n",
       " ('luz', 1),\n",
       " ('vio', 1),\n",
       " ('dios', 1),\n",
       " ('que', 1),\n",
       " ('luz', 1),\n",
       " ('era', 1),\n",
       " ('buena', 1),\n",
       " ('separó', 1),\n",
       " ('dios', 1),\n",
       " ('luz', 1),\n",
       " ('tinieblas', 1),\n",
       " ('llamó', 1),\n",
       " ('dios', 1),\n",
       " ('luz', 1),\n",
       " ('día', 1),\n",
       " ('tinieblas', 1),\n",
       " ('llamó', 1),\n",
       " ('noche', 1),\n",
       " ('fue', 1),\n",
       " ('tarde', 1),\n",
       " ('mañana', 1),\n",
       " ('un', 1),\n",
       " ('día', 1),\n",
       " ('luego', 1),\n",
       " ('dijo', 1),\n",
       " ('dios', 1),\n",
       " ('haya', 1),\n",
       " ('expansión', 1),\n",
       " ('en', 1),\n",
       " ('medio', 1),\n",
       " ('aguas', 1),\n",
       " ('separe', 1),\n",
       " ('aguas', 1),\n",
       " ('aguas', 1),\n",
       " ('e', 1),\n",
       " ('hizo', 1),\n",
       " ('dios', 1),\n",
       " ('expansión', 1),\n",
       " ('separó', 1),\n",
       " ('aguas', 1),\n",
       " ('que', 1),\n",
       " ('estaban', 1),\n",
       " ('debajo', 1),\n",
       " ('expansión', 1),\n",
       " ('aguas', 1),\n",
       " ('que', 1),\n",
       " ('estaban', 1),\n",
       " ('sobre', 1),\n",
       " ('expansión', 1),\n",
       " ('fue', 1),\n",
       " ('así', 1),\n",
       " ('éxodo', 1)]"
      ]
     },
     "execution_count": 61,
     "metadata": {},
     "output_type": "execute_result"
    }
   ],
   "source": [
    "counts= filtered_data.map(lambda x: (x,1))\n",
    "print(counts.count())\n",
    "counts.collect()"
   ]
  },
  {
   "cell_type": "code",
   "execution_count": 65,
   "metadata": {
    "scrolled": true
   },
   "outputs": [
    {
     "name": "stdout",
     "output_type": "stream",
     "text": [
      "49\n"
     ]
    },
    {
     "data": {
      "text/plain": [
       "[('libro', 1),\n",
       " ('primero', 1),\n",
       " ('moisés', 1),\n",
       " ('creación', 1),\n",
       " ('en', 2),\n",
       " ('el', 2),\n",
       " ('principio', 1),\n",
       " ('creó', 1),\n",
       " ('dios', 8),\n",
       " ('cielos', 1),\n",
       " ('tierra', 2),\n",
       " ('estaba', 1),\n",
       " ('desordenada', 1),\n",
       " ('vacía', 1),\n",
       " ('tinieblas', 3),\n",
       " ('estaban', 3),\n",
       " ('sobre', 3),\n",
       " ('faz', 2),\n",
       " ('del', 1),\n",
       " ('abismo', 1),\n",
       " ('espíritu', 1),\n",
       " ('se', 1),\n",
       " ('movía', 1),\n",
       " ('aguas', 6),\n",
       " ('dijo', 2),\n",
       " ('sea', 1),\n",
       " ('luz', 5),\n",
       " ('fue', 3),\n",
       " ('vio', 1),\n",
       " ('que', 3),\n",
       " ('era', 1),\n",
       " ('buena', 1),\n",
       " ('separó', 2),\n",
       " ('llamó', 2),\n",
       " ('día', 2),\n",
       " ('noche', 1),\n",
       " ('tarde', 1),\n",
       " ('mañana', 1),\n",
       " ('un', 1),\n",
       " ('luego', 1),\n",
       " ('haya', 1),\n",
       " ('expansión', 4),\n",
       " ('medio', 1),\n",
       " ('separe', 1),\n",
       " ('e', 1),\n",
       " ('hizo', 1),\n",
       " ('debajo', 1),\n",
       " ('así', 1),\n",
       " ('éxodo', 1)]"
      ]
     },
     "execution_count": 65,
     "metadata": {},
     "output_type": "execute_result"
    }
   ],
   "source": [
    "#from operator import add\n",
    "counts= counts.reduceByKey( lambda x,y: x+y)\n",
    "print(counts.count())\n",
    "counts.collect()"
   ]
  },
  {
   "cell_type": "code",
   "execution_count": 57,
   "metadata": {},
   "outputs": [
    {
     "name": "stdout",
     "output_type": "stream",
     "text": [
      "('dios', 8)\n"
     ]
    }
   ],
   "source": [
    "print(counts.max(lambda x: x[1])) # el más frec, pero como los 5 más frec"
   ]
  },
  {
   "cell_type": "code",
   "execution_count": 67,
   "metadata": {},
   "outputs": [
    {
     "data": {
      "text/plain": [
       "49"
      ]
     },
     "execution_count": 67,
     "metadata": {},
     "output_type": "execute_result"
    }
   ],
   "source": [
    "df = counts.toDF([\"Keywords\",\"Frequency\"]) #converting RDD to spark dataframe\n",
    "df.count()"
   ]
  },
  {
   "cell_type": "code",
   "execution_count": 69,
   "metadata": {},
   "outputs": [],
   "source": [
    "#df.toPandas()"
   ]
  },
  {
   "cell_type": "code",
   "execution_count": 78,
   "metadata": {},
   "outputs": [
    {
     "name": "stdout",
     "output_type": "stream",
     "text": [
      "+---------+-----+\n",
      "| Keywords|count|\n",
      "+---------+-----+\n",
      "|      así|    1|\n",
      "|    medio|    1|\n",
      "|      del|    1|\n",
      "|    aguas|    1|\n",
      "|      sea|    1|\n",
      "|  estaban|    1|\n",
      "|      fue|    1|\n",
      "|       en|    1|\n",
      "|    vacía|    1|\n",
      "|   separe|    1|\n",
      "|   abismo|    1|\n",
      "|   separó|    1|\n",
      "|expansión|    1|\n",
      "|      faz|    1|\n",
      "|     dios|    1|\n",
      "|   cielos|    1|\n",
      "|    movía|    1|\n",
      "|   mañana|    1|\n",
      "|    libro|    1|\n",
      "|    llamó|    1|\n",
      "+---------+-----+\n",
      "only showing top 20 rows\n",
      "\n"
     ]
    }
   ],
   "source": [
    "from pyspark.sql.functions import col\n",
    "\n",
    "df.groupBy(\"Keywords\") \\\n",
    "    .count() \\\n",
    "    .orderBy(col(\"count\").desc()) \\\n",
    "    .show()"
   ]
  },
  {
   "cell_type": "code",
   "execution_count": 85,
   "metadata": {},
   "outputs": [
    {
     "data": {
      "text/plain": [
       "<matplotlib.axes._subplots.AxesSubplot at 0x7f7121807710>"
      ]
     },
     "execution_count": 85,
     "metadata": {},
     "output_type": "execute_result"
    },
    {
     "data": {
      "image/png": "[encoded data removed]",
      "text/plain": [
       "<Figure size 720x576 with 1 Axes>"
      ]
     },
     "metadata": {
      "needs_background": "light"
     },
     "output_type": "display_data"
    }
   ],
   "source": [
    "df.createOrReplaceTempView(\"myTable\") \n",
    "df2 = spark.sql(\"SELECT Keywords, Frequency from myTable order by Frequency desc limit 20  \") #renaming columns \n",
    "pandD = df2.toPandas() #converting spark dataframes to pandas dataframes\n",
    "pandD.plot.barh(x='Keywords', y='Frequency', rot=1, figsize=(10,8))"
   ]
  },
  {
   "cell_type": "code",
   "execution_count": 80,
   "metadata": {},
   "outputs": [],
   "source": [
    "from wordcloud import WordCloud, STOPWORDS\n",
    "#wordcloud                 1.7.0                    pypi_0    pypi"
   ]
  },
  {
   "cell_type": "code",
   "execution_count": 81,
   "metadata": {},
   "outputs": [
    {
     "name": "stdout",
     "output_type": "stream",
     "text": [
      "3.7.6 (default, Jan  8 2020, 19:59:22) \n",
      "[GCC 7.3.0]\n"
     ]
    }
   ],
   "source": [
    "\"\"\" libs \"\"\"\n",
    "# print(__doc__)\n",
    "import sys\n",
    "print(sys.version)\n",
    "import numpy as np\n",
    "import pandas as pd\n",
    "import matplotlib.pyplot as plt\n"
   ]
  },
  {
   "cell_type": "code",
   "execution_count": 86,
   "metadata": {},
   "outputs": [
    {
     "data": {
      "image/png": "[encoded data removed]",
      "text/plain": [
       "<Figure size 1008x720 with 1 Axes>"
      ]
     },
     "metadata": {
      "needs_background": "light"
     },
     "output_type": "display_data"
    }
   ],
   "source": [
    "wordcloudConvertDF = pandD.set_index('Keywords').T.to_dict('records')\n",
    "wordcloud = WordCloud(width=800, height=500, random_state=21, max_font_size=100, relative_scaling=0.5, colormap='Dark2').generate_from_frequencies(dict(*wordcloudConvertDF))\n",
    "plt.figure(figsize=(14, 10))    \n",
    "plt.imshow(wordcloud, interpolation=\"bilinear\")\n",
    "plt.axis('off')\n",
    "plt.show()"
   ]
  },
  {
   "cell_type": "code",
   "execution_count": null,
   "metadata": {},
   "outputs": [],
   "source": []
  }
 ],
 "metadata": {
  "kernelspec": {
   "display_name": "Python 3",
   "language": "python",
   "name": "python3"
  },
  "language_info": {
   "codemirror_mode": {
    "name": "ipython",
    "version": 3
   },
   "file_extension": ".py",
   "mimetype": "text/x-python",
   "name": "python",
   "nbconvert_exporter": "python",
   "pygments_lexer": "ipython3",
   "version": "3.7.6"
  }
 },
 "nbformat": 4,
 "nbformat_minor": 4
}
