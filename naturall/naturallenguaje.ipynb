{
 "cells": [
  {
   "cell_type": "markdown",
   "metadata": {},
   "source": [
    "#Ejemplo de procesamiento de lenguaje natural"
   ]
  },
  {
   "cell_type": "code",
   "execution_count": 3,
   "metadata": {},
   "outputs": [
    {
     "data": {
      "text/plain": [
       "'2.4.5'"
      ]
     },
     "execution_count": 3,
     "metadata": {},
     "output_type": "execute_result"
    }
   ],
   "source": [
    "sc.version"
   ]
  },
  {
   "cell_type": "code",
   "execution_count": 17,
   "metadata": {},
   "outputs": [],
   "source": [
    "#linesRDD= sc.textFile(\"../BIBLIACOMPLETAno.txt\")\n",
    "#print( type(linesRDD) )"
   ]
  },
  {
   "cell_type": "code",
   "execution_count": 18,
   "metadata": {},
   "outputs": [],
   "source": [
    "#linesRDD.collect()"
   ]
  },
  {
   "cell_type": "code",
   "execution_count": 21,
   "metadata": {
    "scrolled": true
   },
   "outputs": [
    {
     "data": {
      "text/plain": [
       "['LIBRO PRIMERO DE MOISÉS', '', 'GÉNESIS', '', 'La creación']"
      ]
     },
     "execution_count": 21,
     "metadata": {},
     "output_type": "execute_result"
    }
   ],
   "source": [
    "linesRDD= sc.binaryFiles(\"../BIBLIACOMPLETAno.txt\").values().flatMap(lambda x: x.decode(\"iso-8859-1\").splitlines())\n",
    "linesRDD.take(5)"
   ]
  },
  {
   "cell_type": "code",
   "execution_count": 28,
   "metadata": {},
   "outputs": [
    {
     "data": {
      "text/plain": [
       "['LIBRO PRIMERO DE MOISÉS',\n",
       " '',\n",
       " 'GÉNESIS',\n",
       " '',\n",
       " 'La creación',\n",
       " '',\n",
       " 'Génesis 1',\n",
       " '',\n",
       " 'Génesis 1:1',\n",
       " '          En el principio creó Dios los cielos y la tierra.',\n",
       " '',\n",
       " ' Génesis 1:2',\n",
       " '          Y la tierra estaba desordenada y vacía, y las tinieblas',\n",
       " '          estaban sobre la faz del abismo, y el Espíritu de Dios se',\n",
       " '          movía sobre la faz de las aguas.',\n",
       " '',\n",
       " ' Génesis 1:3',\n",
       " '          Y dijo Dios: Sea la luz; y fue la luz.',\n",
       " '',\n",
       " ' Génesis 1:4',\n",
       " '          Y vio Dios que la luz era buena; y separó Dios la luz de',\n",
       " '          las tinieblas.',\n",
       " '',\n",
       " ' Génesis 1:5',\n",
       " '          Y llamó Dios a la luz Día, y a las tinieblas llamó Noche.',\n",
       " '          Y fue la tarde y la mañana un día.',\n",
       " '',\n",
       " ' Génesis 1:6',\n",
       " '          Luego dijo Dios: Haya expansión en medio de las aguas, y',\n",
       " '          separe las aguas de las aguas.',\n",
       " '',\n",
       " ' Génesis 1:7',\n",
       " '          E hizo Dios la expansión, y separó las aguas que estaban',\n",
       " '          debajo de la expansión, de las aguas que estaban sobre la',\n",
       " '          expansión. Y fue así.',\n",
       " '',\n",
       " '',\n",
       " 'ÉXODO 3',\n",
       " '-----------------------------------------------------------',\n",
       " '']"
      ]
     },
     "execution_count": 28,
     "metadata": {},
     "output_type": "execute_result"
    }
   ],
   "source": [
    "linesRDD.collect()"
   ]
  },
  {
   "cell_type": "code",
   "execution_count": 29,
   "metadata": {},
   "outputs": [
    {
     "data": {
      "text/plain": [
       "40"
      ]
     },
     "execution_count": 29,
     "metadata": {},
     "output_type": "execute_result"
    }
   ],
   "source": [
    "linesRDD.count()"
   ]
  },
  {
   "cell_type": "code",
   "execution_count": 23,
   "metadata": {},
   "outputs": [
    {
     "data": {
      "text/plain": [
       "1"
      ]
     },
     "execution_count": 23,
     "metadata": {},
     "output_type": "execute_result"
    }
   ],
   "source": [
    "linesRDD.getNumPartitions()"
   ]
  },
  {
   "cell_type": "code",
   "execution_count": 25,
   "metadata": {},
   "outputs": [
    {
     "data": {
      "text/plain": [
       "['          Y dijo Dios: Sea la luz; y fue la luz.',\n",
       " '          Y vio Dios que la luz era buena; y separó Dios la luz de',\n",
       " '          Y llamó Dios a la luz Día, y a las tinieblas llamó Noche.']"
      ]
     },
     "execution_count": 25,
     "metadata": {},
     "output_type": "execute_result"
    }
   ],
   "source": [
    "mifilter = linesRDD.filter(lambda line: \"luz\" in line)\n",
    "mifilter.collect()"
   ]
  },
  {
   "cell_type": "code",
   "execution_count": 26,
   "metadata": {},
   "outputs": [],
   "source": [
    "# conta las palabras más frecuentes de la biblia\n",
    "#function tokenin:\n",
    "#    ..."
   ]
  },
  {
   "cell_type": "code",
   "execution_count": 33,
   "metadata": {
    "scrolled": false
   },
   "outputs": [],
   "source": [
    "#words= linesRDD.flatMap(lambda x: x.split(\" \")) #Tokenización\n",
    "#words.collect()"
   ]
  },
  {
   "cell_type": "code",
   "execution_count": 40,
   "metadata": {},
   "outputs": [
    {
     "data": {
      "text/plain": [
       "['libro',\n",
       " 'primero',\n",
       " 'de',\n",
       " 'moisés',\n",
       " '',\n",
       " 'génesis',\n",
       " '',\n",
       " 'la',\n",
       " 'creación',\n",
       " '',\n",
       " 'génesis',\n",
       " '1',\n",
       " '',\n",
       " 'génesis',\n",
       " '1',\n",
       " '1',\n",
       " 'en',\n",
       " 'el',\n",
       " 'principio',\n",
       " 'creó',\n",
       " 'dios',\n",
       " 'los',\n",
       " 'cielos',\n",
       " 'y',\n",
       " 'la',\n",
       " 'tierra',\n",
       " '',\n",
       " 'génesis',\n",
       " '1',\n",
       " '2',\n",
       " 'y',\n",
       " 'la',\n",
       " 'tierra',\n",
       " 'estaba',\n",
       " 'desordenada',\n",
       " 'y',\n",
       " 'vacía',\n",
       " 'y',\n",
       " 'las',\n",
       " 'tinieblas',\n",
       " 'estaban',\n",
       " 'sobre',\n",
       " 'la',\n",
       " 'faz',\n",
       " 'del',\n",
       " 'abismo',\n",
       " 'y',\n",
       " 'el',\n",
       " 'espíritu',\n",
       " 'de',\n",
       " 'dios',\n",
       " 'se',\n",
       " 'movía',\n",
       " 'sobre',\n",
       " 'la',\n",
       " 'faz',\n",
       " 'de',\n",
       " 'las',\n",
       " 'aguas',\n",
       " '',\n",
       " 'génesis',\n",
       " '1',\n",
       " '3',\n",
       " 'y',\n",
       " 'dijo',\n",
       " 'dios',\n",
       " 'sea',\n",
       " 'la',\n",
       " 'luz',\n",
       " 'y',\n",
       " 'fue',\n",
       " 'la',\n",
       " 'luz',\n",
       " '',\n",
       " 'génesis',\n",
       " '1',\n",
       " '4',\n",
       " 'y',\n",
       " 'vio',\n",
       " 'dios',\n",
       " 'que',\n",
       " 'la',\n",
       " 'luz',\n",
       " 'era',\n",
       " 'buena',\n",
       " 'y',\n",
       " 'separó',\n",
       " 'dios',\n",
       " 'la',\n",
       " 'luz',\n",
       " 'de',\n",
       " 'las',\n",
       " 'tinieblas',\n",
       " '',\n",
       " 'génesis',\n",
       " '1',\n",
       " '5',\n",
       " 'y',\n",
       " 'llamó',\n",
       " 'dios',\n",
       " 'a',\n",
       " 'la',\n",
       " 'luz',\n",
       " 'día',\n",
       " 'y',\n",
       " 'a',\n",
       " 'las',\n",
       " 'tinieblas',\n",
       " 'llamó',\n",
       " 'noche',\n",
       " 'y',\n",
       " 'fue',\n",
       " 'la',\n",
       " 'tarde',\n",
       " 'y',\n",
       " 'la',\n",
       " 'mañana',\n",
       " 'un',\n",
       " 'día',\n",
       " '',\n",
       " 'génesis',\n",
       " '1',\n",
       " '6',\n",
       " 'luego',\n",
       " 'dijo',\n",
       " 'dios',\n",
       " 'haya',\n",
       " 'expansión',\n",
       " 'en',\n",
       " 'medio',\n",
       " 'de',\n",
       " 'las',\n",
       " 'aguas',\n",
       " 'y',\n",
       " 'separe',\n",
       " 'las',\n",
       " 'aguas',\n",
       " 'de',\n",
       " 'las',\n",
       " 'aguas',\n",
       " '',\n",
       " 'génesis',\n",
       " '1',\n",
       " '7',\n",
       " 'e',\n",
       " 'hizo',\n",
       " 'dios',\n",
       " 'la',\n",
       " 'expansión',\n",
       " 'y',\n",
       " 'separó',\n",
       " 'las',\n",
       " 'aguas',\n",
       " 'que',\n",
       " 'estaban',\n",
       " 'debajo',\n",
       " 'de',\n",
       " 'la',\n",
       " 'expansión',\n",
       " 'de',\n",
       " 'las',\n",
       " 'aguas',\n",
       " 'que',\n",
       " 'estaban',\n",
       " 'sobre',\n",
       " 'la',\n",
       " 'expansión',\n",
       " 'y',\n",
       " 'fue',\n",
       " 'así',\n",
       " '',\n",
       " '',\n",
       " 'éxodo',\n",
       " '3',\n",
       " '',\n",
       " '']"
      ]
     },
     "execution_count": 40,
     "metadata": {},
     "output_type": "execute_result"
    }
   ],
   "source": [
    "#1. Tokenización\n",
    "import re\n",
    "# remove any non-words and split lines into separate words\n",
    "# finally, convert all words to lowercase\n",
    "def splitter(line):\n",
    "    line = re.sub(r'^\\W+|\\W+$', '', line)\n",
    "    return map(str.lower, re.split(r'\\W+', line))\n",
    "\n",
    "words= linesRDD.flatMap(splitter)\n",
    "words.collect()"
   ]
  },
  {
   "cell_type": "code",
   "execution_count": 41,
   "metadata": {},
   "outputs": [
    {
     "data": {
      "text/plain": [
       "176"
      ]
     },
     "execution_count": 41,
     "metadata": {},
     "output_type": "execute_result"
    }
   ],
   "source": [
    "words.count()"
   ]
  },
  {
   "cell_type": "code",
   "execution_count": 45,
   "metadata": {},
   "outputs": [
    {
     "name": "stdout",
     "output_type": "stream",
     "text": [
      "86\n"
     ]
    },
    {
     "data": {
      "text/plain": [
       "['libro',\n",
       " 'primero',\n",
       " 'moisés',\n",
       " 'creación',\n",
       " 'en',\n",
       " 'el',\n",
       " 'principio',\n",
       " 'creó',\n",
       " 'dios',\n",
       " 'cielos',\n",
       " 'tierra',\n",
       " 'tierra',\n",
       " 'estaba',\n",
       " 'desordenada',\n",
       " 'vacía',\n",
       " 'tinieblas',\n",
       " 'estaban',\n",
       " 'sobre',\n",
       " 'faz',\n",
       " 'del',\n",
       " 'abismo',\n",
       " 'el',\n",
       " 'espíritu',\n",
       " 'dios',\n",
       " 'se',\n",
       " 'movía',\n",
       " 'sobre',\n",
       " 'faz',\n",
       " 'aguas',\n",
       " 'dijo',\n",
       " 'dios',\n",
       " 'sea',\n",
       " 'luz',\n",
       " 'fue',\n",
       " 'luz',\n",
       " 'vio',\n",
       " 'dios',\n",
       " 'que',\n",
       " 'luz',\n",
       " 'era',\n",
       " 'buena',\n",
       " 'separó',\n",
       " 'dios',\n",
       " 'luz',\n",
       " 'tinieblas',\n",
       " 'llamó',\n",
       " 'dios',\n",
       " 'luz',\n",
       " 'día',\n",
       " 'tinieblas',\n",
       " 'llamó',\n",
       " 'noche',\n",
       " 'fue',\n",
       " 'tarde',\n",
       " 'mañana',\n",
       " 'un',\n",
       " 'día',\n",
       " 'luego',\n",
       " 'dijo',\n",
       " 'dios',\n",
       " 'haya',\n",
       " 'expansión',\n",
       " 'en',\n",
       " 'medio',\n",
       " 'aguas',\n",
       " 'separe',\n",
       " 'aguas',\n",
       " 'aguas',\n",
       " 'e',\n",
       " 'hizo',\n",
       " 'dios',\n",
       " 'expansión',\n",
       " 'separó',\n",
       " 'aguas',\n",
       " 'que',\n",
       " 'estaban',\n",
       " 'debajo',\n",
       " 'expansión',\n",
       " 'aguas',\n",
       " 'que',\n",
       " 'estaban',\n",
       " 'sobre',\n",
       " 'expansión',\n",
       " 'fue',\n",
       " 'así',\n",
       " 'éxodo']"
      ]
     },
     "execution_count": 45,
     "metadata": {},
     "output_type": "execute_result"
    }
   ],
   "source": [
    "#2.a Removing Stop words.  w not in stop_words and not w[0].isdigit()\n",
    "stop_words={'a','su','al','la','las','de','los','es','para','porque','y','génesis'}\n",
    "stopW = words.filter(lambda w : w not in stop_words and not w.isdigit() and len(w) != 0)\n",
    "print(stopW.count())\n",
    "stopW.collect()"
   ]
  },
  {
   "cell_type": "code",
   "execution_count": 47,
   "metadata": {},
   "outputs": [
    {
     "data": {
      "text/plain": [
       "'!\"#$%&\\'()*+,-./:;<=>?@[\\\\]^_`{|}~'"
      ]
     },
     "execution_count": 47,
     "metadata": {},
     "output_type": "execute_result"
    }
   ],
   "source": [
    "#2.b Removing punctuations.\n",
    "import string\n",
    "list_punct=list(string.punctuation)\n",
    "string.punctuation"
   ]
  },
  {
   "cell_type": "code",
   "execution_count": 46,
   "metadata": {},
   "outputs": [
    {
     "name": "stdout",
     "output_type": "stream",
     "text": [
      "86\n"
     ]
    },
    {
     "data": {
      "text/plain": [
       "['libro',\n",
       " 'primero',\n",
       " 'moisés',\n",
       " 'creación',\n",
       " 'en',\n",
       " 'el',\n",
       " 'principio',\n",
       " 'creó',\n",
       " 'dios',\n",
       " 'cielos',\n",
       " 'tierra',\n",
       " 'tierra',\n",
       " 'estaba',\n",
       " 'desordenada',\n",
       " 'vacía',\n",
       " 'tinieblas',\n",
       " 'estaban',\n",
       " 'sobre',\n",
       " 'faz',\n",
       " 'del',\n",
       " 'abismo',\n",
       " 'el',\n",
       " 'espíritu',\n",
       " 'dios',\n",
       " 'se',\n",
       " 'movía',\n",
       " 'sobre',\n",
       " 'faz',\n",
       " 'aguas',\n",
       " 'dijo',\n",
       " 'dios',\n",
       " 'sea',\n",
       " 'luz',\n",
       " 'fue',\n",
       " 'luz',\n",
       " 'vio',\n",
       " 'dios',\n",
       " 'que',\n",
       " 'luz',\n",
       " 'era',\n",
       " 'buena',\n",
       " 'separó',\n",
       " 'dios',\n",
       " 'luz',\n",
       " 'tinieblas',\n",
       " 'llamó',\n",
       " 'dios',\n",
       " 'luz',\n",
       " 'día',\n",
       " 'tinieblas',\n",
       " 'llamó',\n",
       " 'noche',\n",
       " 'fue',\n",
       " 'tarde',\n",
       " 'mañana',\n",
       " 'un',\n",
       " 'día',\n",
       " 'luego',\n",
       " 'dijo',\n",
       " 'dios',\n",
       " 'haya',\n",
       " 'expansión',\n",
       " 'en',\n",
       " 'medio',\n",
       " 'aguas',\n",
       " 'separe',\n",
       " 'aguas',\n",
       " 'aguas',\n",
       " 'e',\n",
       " 'hizo',\n",
       " 'dios',\n",
       " 'expansión',\n",
       " 'separó',\n",
       " 'aguas',\n",
       " 'que',\n",
       " 'estaban',\n",
       " 'debajo',\n",
       " 'expansión',\n",
       " 'aguas',\n",
       " 'que',\n",
       " 'estaban',\n",
       " 'sobre',\n",
       " 'expansión',\n",
       " 'fue',\n",
       " 'así',\n",
       " 'éxodo']"
      ]
     },
     "execution_count": 46,
     "metadata": {},
     "output_type": "execute_result"
    }
   ],
   "source": [
    "filtered_data = stopW.filter(lambda punct : punct not in list_punct)\n",
    "print(filtered_data.count())\n",
    "filtered_data.collect()"
   ]
  },
  {
   "cell_type": "code",
   "execution_count": null,
   "metadata": {},
   "outputs": [],
   "source": []
  }
 ],
 "metadata": {
  "kernelspec": {
   "display_name": "Python 3",
   "language": "python",
   "name": "python3"
  },
  "language_info": {
   "codemirror_mode": {
    "name": "ipython",
    "version": 3
   },
   "file_extension": ".py",
   "mimetype": "text/x-python",
   "name": "python",
   "nbconvert_exporter": "python",
   "pygments_lexer": "ipython3",
   "version": "3.7.6"
  }
 },
 "nbformat": 4,
 "nbformat_minor": 4
}
