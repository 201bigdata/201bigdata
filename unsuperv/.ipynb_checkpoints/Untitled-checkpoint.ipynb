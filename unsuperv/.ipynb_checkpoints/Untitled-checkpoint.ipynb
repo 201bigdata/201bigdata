{
 "cells": [
  {
   "cell_type": "code",
   "execution_count": 2,
   "metadata": {},
   "outputs": [
    {
     "data": {
      "text/plain": [
       "[Row(Alumno=1, Matematica=15, Lenguaje=16, Fisica=16, Estadistica=15, Filosofia=14),\n",
       " Row(Alumno=2, Matematica=17, Lenguaje=14, Fisica=15, Estadistica=16, Filosofia=16),\n",
       " Row(Alumno=3, Matematica=13, Lenguaje=15, Fisica=12, Estadistica=13, Filosofia=15),\n",
       " Row(Alumno=4, Matematica=18, Lenguaje=16, Fisica=17, Estadistica=17, Filosofia=15),\n",
       " Row(Alumno=5, Matematica=14, Lenguaje=13, Fisica=16, Estadistica=15, Filosofia=14),\n",
       " Row(Alumno=6, Matematica=18, Lenguaje=16, Fisica=17, Estadistica=16, Filosofia=15),\n",
       " Row(Alumno=7, Matematica=15, Lenguaje=14, Fisica=14, Estadistica=14, Filosofia=14),\n",
       " Row(Alumno=8, Matematica=16, Lenguaje=11, Fisica=12, Estadistica=14, Filosofia=12),\n",
       " Row(Alumno=9, Matematica=17, Lenguaje=16, Fisica=13, Estadistica=15, Filosofia=15),\n",
       " Row(Alumno=10, Matematica=18, Lenguaje=12, Fisica=14, Estadistica=15, Filosofia=13),\n",
       " Row(Alumno=11, Matematica=12, Lenguaje=13, Fisica=15, Estadistica=13, Filosofia=12),\n",
       " Row(Alumno=12, Matematica=13, Lenguaje=16, Fisica=12, Estadistica=13, Filosofia=15),\n",
       " Row(Alumno=13, Matematica=14, Lenguaje=17, Fisica=17, Estadistica=16, Filosofia=16),\n",
       " Row(Alumno=14, Matematica=12, Lenguaje=18, Fisica=13, Estadistica=13, Filosofia=17),\n",
       " Row(Alumno=15, Matematica=13, Lenguaje=15, Fisica=12, Estadistica=12, Filosofia=14),\n",
       " Row(Alumno=16, Matematica=14, Lenguaje=16, Fisica=13, Estadistica=13, Filosofia=13),\n",
       " Row(Alumno=17, Matematica=16, Lenguaje=17, Fisica=15, Estadistica=15, Filosofia=16),\n",
       " Row(Alumno=18, Matematica=16, Lenguaje=15, Fisica=15, Estadistica=16, Filosofia=16),\n",
       " Row(Alumno=19, Matematica=15, Lenguaje=14, Fisica=14, Estadistica=16, Filosofia=13),\n",
       " Row(Alumno=20, Matematica=17, Lenguaje=17, Fisica=14, Estadistica=17, Filosofia=16)]"
      ]
     },
     "execution_count": 2,
     "metadata": {},
     "output_type": "execute_result"
    }
   ],
   "source": [
    "df = sqlContext.read.format('csv').options(header='true', inferschema='true')\\\n",
    "    .load('../notas.csv')\n",
    "df.collect()"
   ]
  },
  {
   "cell_type": "code",
   "execution_count": 3,
   "metadata": {},
   "outputs": [],
   "source": [
    "#1. Preparación de datos\n",
    "# Feature selection\n",
    "df2=df.select('Matematica','Lenguaje','Fisica','Estadistica','Filosofia')\n",
    "#df2.show()"
   ]
  },
  {
   "cell_type": "code",
   "execution_count": 5,
   "metadata": {},
   "outputs": [
    {
     "name": "stdout",
     "output_type": "stream",
     "text": [
      "+----------+--------+------+-----------+---------+--------------------+\n",
      "|Matematica|Lenguaje|Fisica|Estadistica|Filosofia|     indexedFeatures|\n",
      "+----------+--------+------+-----------+---------+--------------------+\n",
      "|        15|      16|    16|         15|       14|[15.0,16.0,16.0,1...|\n",
      "|        17|      14|    15|         16|       16|[17.0,14.0,15.0,1...|\n",
      "|        13|      15|    12|         13|       15|[13.0,15.0,12.0,1...|\n",
      "|        18|      16|    17|         17|       15|[18.0,16.0,17.0,1...|\n",
      "|        14|      13|    16|         15|       14|[14.0,13.0,16.0,1...|\n",
      "|        18|      16|    17|         16|       15|[18.0,16.0,17.0,1...|\n",
      "|        15|      14|    14|         14|       14|[15.0,14.0,14.0,1...|\n",
      "|        16|      11|    12|         14|       12|[16.0,11.0,12.0,1...|\n",
      "|        17|      16|    13|         15|       15|[17.0,16.0,13.0,1...|\n",
      "|        18|      12|    14|         15|       13|[18.0,12.0,14.0,1...|\n",
      "|        12|      13|    15|         13|       12|[12.0,13.0,15.0,1...|\n",
      "|        13|      16|    12|         13|       15|[13.0,16.0,12.0,1...|\n",
      "|        14|      17|    17|         16|       16|[14.0,17.0,17.0,1...|\n",
      "|        12|      18|    13|         13|       17|[12.0,18.0,13.0,1...|\n",
      "|        13|      15|    12|         12|       14|[13.0,15.0,12.0,1...|\n",
      "|        14|      16|    13|         13|       13|[14.0,16.0,13.0,1...|\n",
      "|        16|      17|    15|         15|       16|[16.0,17.0,15.0,1...|\n",
      "|        16|      15|    15|         16|       16|[16.0,15.0,15.0,1...|\n",
      "|        15|      14|    14|         16|       13|[15.0,14.0,14.0,1...|\n",
      "|        17|      17|    14|         17|       16|[17.0,17.0,14.0,1...|\n",
      "+----------+--------+------+-----------+---------+--------------------+\n",
      "\n"
     ]
    }
   ],
   "source": [
    "from pyspark.ml.feature import VectorAssembler\n",
    "fea=['Matematica','Lenguaje','Fisica','Estadistica','Filosofia']\n",
    "featureAssembler = VectorAssembler(inputCols=fea, outputCol=\"indexedFeatures\")\n",
    "\n",
    "#solo para mostrar\n",
    "dfa = featureAssembler.transform(df2) # this will add to the table outputCol column with vectors.\n",
    "dfa.show()"
   ]
  },
  {
   "cell_type": "code",
   "execution_count": 8,
   "metadata": {},
   "outputs": [],
   "source": [
    "from numpy import array\n",
    "import numpy as np\n",
    "from math import sqrt\n",
    "import matplotlib.pyplot as plt\n",
    "%matplotlib inline\n",
    "\n",
    "import seaborn as sns\n",
    "import pandas as pd\n"
   ]
  },
  {
   "cell_type": "code",
   "execution_count": 15,
   "metadata": {},
   "outputs": [
    {
     "data": {
      "text/plain": [
       "<seaborn.axisgrid.FacetGrid at 0x1bc2e2c5ec8>"
      ]
     },
     "execution_count": 15,
     "metadata": {},
     "output_type": "execute_result"
    },
    {
     "data": {
      "image/png": "[encoded data removed]",
      "text/plain": [
       "<Figure size 360x360 with 1 Axes>"
      ]
     },
     "metadata": {
      "needs_background": "light"
     },
     "output_type": "display_data"
    }
   ],
   "source": [
    "sns.lmplot(x='Matematica',y='Filosofia',data=df2.toPandas(),fit_reg=False,legend=True,scatter_kws={\"s\":80}) #,hue='Fisica'"
   ]
  },
  {
   "cell_type": "code",
   "execution_count": 6,
   "metadata": {},
   "outputs": [],
   "source": [
    "from pyspark.ml import Pipeline"
   ]
  },
  {
   "cell_type": "code",
   "execution_count": 7,
   "metadata": {},
   "outputs": [
    {
     "name": "stdout",
     "output_type": "stream",
     "text": [
      "Training Dataset Count: 13\n",
      "Test Dataset Count: 7\n"
     ]
    }
   ],
   "source": [
    "#3 distribucion de los datos\n",
    "# set seed for reproducibility\n",
    "(trainingData, testData) = df2.randomSplit([0.7, 0.3], seed = 100)\n",
    "print(\"Training Dataset Count: \" + str(trainingData.count()))\n",
    "print(\"Test Dataset Count: \" + str(testData.count()))"
   ]
  },
  {
   "cell_type": "code",
   "execution_count": null,
   "metadata": {},
   "outputs": [],
   "source": [
    "#4. Modelamiento (con un modelo ML)\n",
    "# Fit KMans Model\n",
    "from pyspark.ml.classification import DecisionTreeClassifier\n",
    "# Instancia model\n",
    "dTree = DecisionTreeClassifier(labelCol='indexedLabel', featuresCol='indexedFeatures')\n",
    "labelIndexer.labels"
   ]
  }
 ],
 "metadata": {
  "kernelspec": {
   "display_name": "Python 3",
   "language": "python",
   "name": "python3"
  },
  "language_info": {
   "codemirror_mode": {
    "name": "ipython",
    "version": 3
   },
   "file_extension": ".py",
   "mimetype": "text/x-python",
   "name": "python",
   "nbconvert_exporter": "python",
   "pygments_lexer": "ipython3",
   "version": "3.7.6"
  }
 },
 "nbformat": 4,
 "nbformat_minor": 4
}
